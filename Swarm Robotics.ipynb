{
  "nbformat": 4,
  "nbformat_minor": 0,
  "metadata": {
    "colab": {
      "provenance": []
    },
    "kernelspec": {
      "name": "python3",
      "display_name": "Python 3"
    },
    "language_info": {
      "name": "python"
    }
  },
  "cells": [
    {
      "cell_type": "code",
      "execution_count": 3,
      "metadata": {
        "colab": {
          "base_uri": "https://localhost:8080/",
          "height": 452
        },
        "id": "ETTJFy8NIgMx",
        "outputId": "fae1eefb-c613-41f0-cae5-a7a8e429e87a"
      },
      "outputs": [
        {
          "output_type": "display_data",
          "data": {
            "text/plain": [
              "<Figure size 640x480 with 1 Axes>"
            ],
            "image/png": "[encoded data removed]"
          },
          "metadata": {}
        }
      ],
      "source": [
        "import numpy as np\n",
        "import matplotlib.pyplot as plt\n",
        "import random\n",
        "\n",
        "# Define environment (10x10 grid with obstacles)\n",
        "grid_size = (10, 10)\n",
        "environment = np.zeros(grid_size)\n",
        "\n",
        "# Add obstacles\n",
        "obstacles = [(3, 3), (3, 4), (3, 5), (5, 6), (6, 6), (7, 6)]\n",
        "for obs in obstacles:\n",
        "    environment[obs] = 1  # Mark obstacles\n",
        "\n",
        "# Define start and goal positions\n",
        "start, goal = (0, 0), (9, 9)\n",
        "\n",
        "class AntColonyOptimization:\n",
        "    def __init__(self, environment, start, goal, n_ants=10, n_iterations=100, alpha=1, beta=2, evaporation=0.5, Q=1): # Changed _init_ to __init__\n",
        "        \"\"\"Initialize ACO parameters.\"\"\"\n",
        "        self.environment = environment\n",
        "        self.start = start\n",
        "        self.goal = goal\n",
        "        self.grid_size = environment.shape\n",
        "        self.n_ants = n_ants\n",
        "        self.n_iterations = n_iterations\n",
        "        self.alpha = alpha  # Pheromone influence\n",
        "        self.beta = beta  # Heuristic influence\n",
        "        self.evaporation = evaporation  # Pheromone evaporation rate\n",
        "        self.Q = Q  # Pheromone deposit factor\n",
        "        self.pheromone = np.ones(self.grid_size)  # Initialize pheromone levels\n",
        "\n",
        "    # ... (rest of the class code remains the same)\n",
        "\n",
        "    def get_neighbors(self, position):\n",
        "        \"\"\"Return valid neighbors (up, down, left, right).\"\"\"\n",
        "        x, y = position\n",
        "        neighbors = [(x-1, y), (x+1, y), (x, y-1), (x, y+1)]\n",
        "        return [n for n in neighbors if 0 <= n[0] < self.grid_size[0] and\n",
        "                0 <= n[1] < self.grid_size[1] and self.environment[n] == 0]\n",
        "\n",
        "    def move_ant(self, position):\n",
        "        \"\"\"Move ant based on pheromone levels and heuristic information.\"\"\"\n",
        "        neighbors = self.get_neighbors(position)\n",
        "        if not neighbors:\n",
        "            return position  # No valid moves, stay in place\n",
        "\n",
        "        # Compute probabilities using pheromone levels and heuristic (distance to goal)\n",
        "        pheromones = np.array([self.pheromone[n] for n in neighbors])\n",
        "        heuristic = np.array([1 / (np.linalg.norm(np.array(n) - np.array(self.goal)) + 1e-5) for n in neighbors])\n",
        "        probabilities = (pheromones ** self.alpha) * (heuristic ** self.beta)\n",
        "        probabilities /= probabilities.sum()\n",
        "\n",
        "        return random.choices(neighbors, probabilities)[0]  # Select next move\n",
        "\n",
        "    def update_pheromones(self, paths):\n",
        "        \"\"\"Update pheromone levels based on paths taken by ants.\"\"\"\n",
        "        self.pheromone *= (1 - self.evaporation)  # Apply pheromone evaporation\n",
        "        for path in paths:\n",
        "            for pos in path:\n",
        "                self.pheromone[pos] += self.Q / len(path)  # Deposit pheromone\n",
        "\n",
        "    def optimize(self):\n",
        "        \"\"\"Run ACO algorithm to find the optimal path.\"\"\"\n",
        "        best_path = None\n",
        "        best_length = float('inf')\n",
        "\n",
        "        for _ in range(self.n_iterations):\n",
        "            ant_paths = []\n",
        "            for _ in range(self.n_ants):\n",
        "                path = [self.start]\n",
        "                while path[-1] != self.goal and len(path) < 100:\n",
        "                    next_pos = self.move_ant(path[-1])\n",
        "                    if next_pos in path:  # Avoid loops\n",
        "                        break\n",
        "                    path.append(next_pos)\n",
        "\n",
        "                if path[-1] == self.goal and len(path) < best_length:\n",
        "                    best_path, best_length = path[:], len(path)\n",
        "\n",
        "                ant_paths.append(path)\n",
        "\n",
        "            self.update_pheromones(ant_paths)\n",
        "\n",
        "        return best_path\n",
        "\n",
        "# Instantiate and run ACO\n",
        "aco = AntColonyOptimization(environment, start, goal)\n",
        "best_path = aco.optimize()\n",
        "\n",
        "# Visualization\n",
        "plt.imshow(environment, cmap='gray_r')\n",
        "plt.scatter([start[1], goal[1]], [start[0], goal[0]], c='red', label=\"Start/Goal\")\n",
        "if best_path:\n",
        "    path_x, path_y = zip(*best_path)\n",
        "    plt.plot(path_y, path_x, marker='o', color='blue', label=\"ACO Best Path\")\n",
        "plt.legend()\n",
        "plt.title(\"ACO Swarm Robotics Path Planning\")\n",
        "plt.show()"
      ]
    },
    {
      "source": [
        "class AntColonyOptimization:\n",
        "    def __init__(self, environment, start, goal, n_ants=10, n_iterations=100, alpha=1, beta=2, evaporation=0.5, Q=1): # Changed _init_ to __init__\n",
        "        \"\"\"Initialize ACO parameters.\"\"\"\n",
        "        self.environment = environment\n",
        "        self.start = start\n",
        "        self.goal = goal\n",
        "        self.grid_size = environment.shape\n",
        "        self.n_ants = n_ants\n",
        "        self.n_iterations = n_iterations\n",
        "        self.alpha = alpha  # Pheromone influence\n",
        "        self.beta = beta  # Heuristic influence\n",
        "        self.evaporation = evaporation  # Pheromone evaporation rate\n",
        "        self.Q = Q  # Pheromone deposit factor\n",
        "        self.pheromone = np.ones(self.grid_size)  # Initialize pheromone levels\n",
        "\n",
        "    # ... (rest of the class code remains the same)"
      ],
      "cell_type": "code",
      "metadata": {
        "id": "zZ2O0ncGJEHY"
      },
      "execution_count": 2,
      "outputs": []
    },
    {
      "cell_type": "code",
      "source": [],
      "metadata": {
        "id": "-xL1HE4NIpY8"
      },
      "execution_count": null,
      "outputs": []
    }
  ]
}